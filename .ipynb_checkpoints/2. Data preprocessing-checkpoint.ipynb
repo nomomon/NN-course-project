{
 "cells": [
  {
   "cell_type": "code",
   "execution_count": 1,
   "id": "2e272caf",
   "metadata": {},
   "outputs": [],
   "source": [
    "%matplotlib inline\n",
    "# %matplotlib notebook\n",
    "\n",
    "import matplotlib.pyplot as plt\n",
    "from matplotlib import animation\n",
    "from IPython.display import HTML\n",
    "\n",
    "from ase.db import connect\n",
    "\n",
    "import numpy as np\n",
    "import pandas as pd\n",
    "import tensorflow as tf"
   ]
  },
  {
   "cell_type": "code",
   "execution_count": 2,
   "id": "8a0a5c55",
   "metadata": {},
   "outputs": [
    {
     "ename": "SyntaxError",
     "evalue": "f-string: closing parenthesis '}' does not match opening parenthesis '(' (display.py, line 104)",
     "output_type": "error",
     "traceback": [
      "Traceback \u001b[0;36m(most recent call last)\u001b[0m:\n",
      "  File \u001b[1;32m~/miniforge3/lib/python3.9/site-packages/IPython/core/interactiveshell.py:3369\u001b[0m in \u001b[1;35mrun_code\u001b[0m\n    exec(code_obj, self.user_global_ns, self.user_ns)\n",
      "\u001b[0;36m  Input \u001b[0;32mIn [2]\u001b[0;36m in \u001b[0;35m<cell line: 3>\u001b[0;36m\u001b[0m\n\u001b[0;31m    from funcs.display import *\u001b[0m\n",
      "\u001b[0;36m  File \u001b[0;32m~/Desktop/Projects/molecule-energy-prediction/funcs/display.py:104\u001b[0;36m\u001b[0m\n\u001b[0;31m    ax.text(x[i], y[i], z[i], f's[i] + {(str(i) if atom_index else \"\"}')\u001b[0m\n\u001b[0m                                                                       ^\u001b[0m\n\u001b[0;31mSyntaxError\u001b[0m\u001b[0;31m:\u001b[0m f-string: closing parenthesis '}' does not match opening parenthesis '('\n"
     ]
    }
   ],
   "source": [
    "from funcs.distance import *\n",
    "from funcs.convert import *\n",
    "from funcs.display import *"
   ]
  },
  {
   "cell_type": "code",
   "execution_count": null,
   "id": "3c9652cc",
   "metadata": {},
   "outputs": [],
   "source": [
    "row = train_db.get(500)"
   ]
  },
  {
   "cell_type": "code",
   "execution_count": null,
   "id": "5d9fb59e",
   "metadata": {},
   "outputs": [],
   "source": [
    "dist_mat, _ = get_distance_matrix(row)"
   ]
  },
  {
   "cell_type": "code",
   "execution_count": null,
   "id": "c3ebd1e9",
   "metadata": {
    "scrolled": true
   },
   "outputs": [],
   "source": [
    "get_bond_counts(dist_mat, row.symbols)"
   ]
  },
  {
   "cell_type": "code",
   "execution_count": null,
   "id": "335b76ba",
   "metadata": {},
   "outputs": [],
   "source": [
    "bond_matrix = get_bond_type_matrix(dist_mat, row.symbols)\n",
    "\n",
    "bond_matrix"
   ]
  },
  {
   "cell_type": "code",
   "execution_count": null,
   "id": "a3a2a0b0",
   "metadata": {},
   "outputs": [],
   "source": [
    "bond_matrix.sum(axis=1)"
   ]
  },
  {
   "cell_type": "code",
   "execution_count": null,
   "id": "c2fbc53e",
   "metadata": {},
   "outputs": [],
   "source": [
    "display_molecule(row, equal_aspect_ratio=True, bond_type=False)"
   ]
  },
  {
   "cell_type": "code",
   "execution_count": null,
   "id": "3bc1a1f2",
   "metadata": {},
   "outputs": [],
   "source": [
    "atom_total_bonds = {\n",
    "    'H': 1,\n",
    "    'C':4,\n",
    "    'N':3,\n",
    "    'O':8,\n",
    "    'F':1,\n",
    "    'S':2,\n",
    "    'Cl':1,\n",
    "    'Br':1\n",
    "}"
   ]
  },
  {
   "cell_type": "code",
   "execution_count": null,
   "id": "f2a01c31",
   "metadata": {},
   "outputs": [],
   "source": [
    "bond_count = bond_matrix.sum(axis=1)\n",
    "correct_bond_count = np.array([atom_total_bonds[atom] for atom in row.symbols])\n",
    "\n",
    "less_enough_rows = np.less(bond_count, correct_bond_count).astype('int64')[None, ...]\n",
    "more_enough_rows = np.greater(bond_count, correct_bond_count).astype('int64')[None, ...]\n",
    "\n",
    "possible_less_cells = less_enough_rows * less_enough_rows.T \n",
    "possible_more_cells = more_enough_rows * more_enough_rows.T"
   ]
  },
  {
   "cell_type": "code",
   "execution_count": null,
   "id": "b44bb7f9",
   "metadata": {},
   "outputs": [],
   "source": [
    "plt.imshow(bond_matrix * 10)\n",
    "plt.imshow(possible_less_cells, cmap='gray', alpha=.3)\n",
    "plt.title('missing bonds')\n",
    "ax.set_xticks(list(range(row.natoms)))\n",
    "ax.set_xticklabels(row.symbols)\n",
    "ax.set_yticks(list(range(row.natoms)))\n",
    "ax.set_yticklabels(row.symbols)\n",
    "plt.show()\n",
    "\n",
    "plt.imshow(bond_matrix * 10)\n",
    "plt.imshow(possible_more_cells, cmap='gray', alpha=.3)\n",
    "plt.title('extra bonds')\n",
    "ax.set_xticks(list(range(row.natoms)))\n",
    "ax.set_xticklabels(row.symbols)\n",
    "ax.set_yticks(list(range(row.natoms)))\n",
    "ax.set_yticklabels(row.symbols)\n",
    "plt.show()"
   ]
  },
  {
   "cell_type": "code",
   "execution_count": null,
   "id": "7b4e3d51",
   "metadata": {},
   "outputs": [],
   "source": [
    "display_molecule_video(row, bond_type=True, atom_index=True)"
   ]
  },
  {
   "cell_type": "code",
   "execution_count": null,
   "id": "8e93fa7b",
   "metadata": {},
   "outputs": [],
   "source": []
  }
 ],
 "metadata": {
  "kernelspec": {
   "display_name": "Python 3 (ipykernel)",
   "language": "python",
   "name": "python3"
  },
  "language_info": {
   "codemirror_mode": {
    "name": "ipython",
    "version": 3
   },
   "file_extension": ".py",
   "mimetype": "text/x-python",
   "name": "python",
   "nbconvert_exporter": "python",
   "pygments_lexer": "ipython3",
   "version": "3.9.10"
  }
 },
 "nbformat": 4,
 "nbformat_minor": 5
}
