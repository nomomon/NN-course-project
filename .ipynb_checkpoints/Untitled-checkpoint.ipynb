{
 "cells": [
  {
   "cell_type": "code",
   "execution_count": 1,
   "id": "889b324c",
   "metadata": {},
   "outputs": [],
   "source": [
    "%matplotlib inline\n",
    "import matplotlib.pyplot as plt\n",
    "from matplotlib import animation\n",
    "from IPython.display import HTML\n",
    "\n",
    "from ase.db import connect\n",
    "\n",
    "import numpy as np\n",
    "import pandas as pd\n",
    "import tensorflow as tf"
   ]
  },
  {
   "cell_type": "code",
   "execution_count": 2,
   "id": "11081ee0",
   "metadata": {},
   "outputs": [],
   "source": [
    "from preprocess.distance import *\n",
    "from preprocess.convert import *"
   ]
  },
  {
   "cell_type": "code",
   "execution_count": 3,
   "id": "75f9b0cd",
   "metadata": {},
   "outputs": [],
   "source": [
    "row = train_db.get(1)"
   ]
  },
  {
   "cell_type": "code",
   "execution_count": 4,
   "id": "5a34e605",
   "metadata": {},
   "outputs": [],
   "source": [
    "dist_mat, _ = get_distance_matrix(row)"
   ]
  },
  {
   "cell_type": "code",
   "execution_count": 5,
   "id": "ddd71f4b",
   "metadata": {},
   "outputs": [
    {
     "data": {
      "text/plain": [
       "{'CC3': 4,\n",
       " 'CH1': 19,\n",
       " 'CS2': 2,\n",
       " 'CN2': 8,\n",
       " 'CC2': 8,\n",
       " 'CO1': 2,\n",
       " 'HN1': 1,\n",
       " 'CN3': 2}"
      ]
     },
     "execution_count": 5,
     "metadata": {},
     "output_type": "execute_result"
    }
   ],
   "source": [
    "get_bond_counts(dist_mat, row.symbols)"
   ]
  },
  {
   "cell_type": "code",
   "execution_count": null,
   "id": "a32336af",
   "metadata": {},
   "outputs": [],
   "source": [
    "def display_molecule(row, plt):\n",
    "    fig = plt.figure()\n",
    "    fig.set_size_inches(12, 8)\n",
    "\n",
    "    ax = plt.axes(projection='3d')\n",
    "    # ax.grid(False)\n",
    "    \n",
    "    def init():\n",
    "        p = row.positions\n",
    "        s = row.symbols\n",
    "        n = row.numbers\n",
    "        \n",
    "        x = p[:, 0]\n",
    "        y = p[:, 1]\n",
    "        z = p[:, 2]\n",
    "\n",
    "        ax.scatter(x, y, z, \n",
    "            s = n*20,        # size\n",
    "            c = n,           # color\n",
    "            cmap = 'inferno'\n",
    "        )\n",
    "\n",
    "        dist_mat, _ = get_distance_matrix(row)\n",
    "        bond_matrix = get_bond_type_matrix(dist_mat, row.symbols)\n",
    "\n",
    "        for i in range(len(p)):\n",
    "            ax.text(x[i], y[i], z[i], \" \" + s[i])\n",
    "\n",
    "        for i in range(len(p)):\n",
    "            for j in range(i+1, len(p)):\n",
    "                # два условия которые подобрал для определения есть ли связь между атомами иди нет\n",
    "                # основано на моем базовом понимании химии\n",
    "                # если атомы на определенном расстоянии то между ними есть связь (covalent bond)\n",
    "                # у каждого атома ограниченное количество связей, проблемы были только у H-H связей\n",
    "                if s[i] == 'H' and s[j] == 'H':\n",
    "                    continue\n",
    "\n",
    "                if bond_matrix[i][j] != 0:  # not sure if \"3.5 <\" is needed\n",
    "                    lx = [x[i], x[j]]           # it seems to work good without it\n",
    "                    ly = [y[i], y[j]]           # would be nice to read about the chem behind\n",
    "                    lz = [z[i], z[j]]\n",
    "\n",
    "                    ax.plot(lx, ly, lz, color='black')\n",
    "        return fig,\n",
    "\n",
    "\n",
    "    def animate(i):\n",
    "        ax.view_init(elev=10., azim=i)\n",
    "        return fig,\n",
    "\n",
    "    \n",
    "    anim = animation.FuncAnimation(fig, animate, init_func=init,\n",
    "                                   frames=360, interval=30, blit=True)\n",
    "    \n",
    "    plt.close()\n",
    "    return HTML(anim.to_html5_video())\n",
    "\n",
    "display_molecule(row, plt)"
   ]
  }
 ],
 "metadata": {
  "kernelspec": {
   "display_name": "Python 3 (ipykernel)",
   "language": "python",
   "name": "python3"
  },
  "language_info": {
   "codemirror_mode": {
    "name": "ipython",
    "version": 3
   },
   "file_extension": ".py",
   "mimetype": "text/x-python",
   "name": "python",
   "nbconvert_exporter": "python",
   "pygments_lexer": "ipython3",
   "version": "3.9.10"
  }
 },
 "nbformat": 4,
 "nbformat_minor": 5
}
