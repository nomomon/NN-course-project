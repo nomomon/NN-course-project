{
 "cells": [
  {
   "cell_type": "code",
   "execution_count": 1,
   "id": "8061506a",
   "metadata": {},
   "outputs": [],
   "source": [
    "import tensorflow as tf\n",
    "import numpy as np\n",
    "import pandas as pd"
   ]
  },
  {
   "cell_type": "code",
   "execution_count": 2,
   "id": "d9c849c9",
   "metadata": {},
   "outputs": [],
   "source": [
    "# df = pd.read_csv(\"./data/processed/dataset.csv\")"
   ]
  },
  {
   "cell_type": "code",
   "execution_count": 3,
   "id": "c0fc136b",
   "metadata": {},
   "outputs": [
    {
     "data": {
      "text/plain": [
       "((138365, 21), (138365, 1))"
      ]
     },
     "execution_count": 3,
     "metadata": {},
     "output_type": "execute_result"
    }
   ],
   "source": [
    "x = pd.read_csv(\"./data/processed/learned_bond_types.csv\").to_numpy()\n",
    "y = pd.read_csv(\"./data/processed/energy.csv\").to_numpy()\n",
    "\n",
    "x.shape, y.shape"
   ]
  },
  {
   "cell_type": "code",
   "execution_count": 4,
   "id": "cb478f7d",
   "metadata": {},
   "outputs": [],
   "source": [
    "from sklearn.model_selection import train_test_split\n",
    "\n",
    "# Split the data\n",
    "x_train, x_valid, y_train, y_valid = train_test_split(x, y, test_size=.2, shuffle=True, random_state=42)"
   ]
  },
  {
   "cell_type": "code",
   "execution_count": 5,
   "id": "52c09d66",
   "metadata": {},
   "outputs": [
    {
     "data": {
      "text/plain": [
       "((110692, 21), (110692, 1), (27673, 21), (27673, 1))"
      ]
     },
     "execution_count": 5,
     "metadata": {},
     "output_type": "execute_result"
    }
   ],
   "source": [
    "x_train.shape, y_train.shape, x_valid.shape, y_valid.shape"
   ]
  },
  {
   "cell_type": "markdown",
   "id": "c2db53fd",
   "metadata": {},
   "source": [
    "## Trianing the model"
   ]
  },
  {
   "cell_type": "code",
   "execution_count": 6,
   "id": "d261f406",
   "metadata": {},
   "outputs": [],
   "source": [
    "import os\n",
    "\n",
    "work_dir = 'mansur/experiment_8'\n",
    "\n",
    "os.mkdir(f'{work_dir}')\n",
    "os.mkdir(f'{work_dir}/checkpoint')\n",
    "os.mkdir(f'{work_dir}/model')"
   ]
  },
  {
   "cell_type": "code",
   "execution_count": 7,
   "id": "4f6fb831",
   "metadata": {},
   "outputs": [
    {
     "name": "stdout",
     "output_type": "stream",
     "text": [
      "Metal device set to: Apple M1\n"
     ]
    },
    {
     "name": "stderr",
     "output_type": "stream",
     "text": [
      "2022-06-14 15:59:58.259922: I tensorflow/core/common_runtime/pluggable_device/pluggable_device_factory.cc:305] Could not identify NUMA node of platform GPU ID 0, defaulting to 0. Your kernel may not have been built with NUMA support.\n",
      "2022-06-14 15:59:58.260018: I tensorflow/core/common_runtime/pluggable_device/pluggable_device_factory.cc:271] Created TensorFlow device (/job:localhost/replica:0/task:0/device:GPU:0 with 0 MB memory) -> physical PluggableDevice (device: 0, name: METAL, pci bus id: <undefined>)\n"
     ]
    }
   ],
   "source": [
    "from tensorflow.keras.layers import Dense as d\n",
    "from tensorflow.keras.layers import InputLayer as i\n",
    "\n",
    "model = tf.keras.Sequential([\n",
    "    i(x.shape[1]),\n",
    "    d(10),\n",
    "])\n",
    "\n",
    "model.compile(\n",
    "    optimizer=\"Adam\",\n",
    "    loss=\"MSE\",\n",
    "    metrics=\"MAE\"\n",
    ")"
   ]
  },
  {
   "cell_type": "code",
   "execution_count": 8,
   "id": "d8334bf1",
   "metadata": {},
   "outputs": [
    {
     "name": "stdout",
     "output_type": "stream",
     "text": [
      "Model: \"sequential\"\n",
      "_________________________________________________________________\n",
      " Layer (type)                Output Shape              Param #   \n",
      "=================================================================\n",
      " dense (Dense)               (None, 10)                220       \n",
      "                                                                 \n",
      "=================================================================\n",
      "Total params: 220\n",
      "Trainable params: 220\n",
      "Non-trainable params: 0\n",
      "_________________________________________________________________\n"
     ]
    }
   ],
   "source": [
    "model.build()\n",
    "model.summary()"
   ]
  },
  {
   "cell_type": "code",
   "execution_count": null,
   "id": "514116e8",
   "metadata": {},
   "outputs": [
    {
     "name": "stdout",
     "output_type": "stream",
     "text": [
      "Epoch 1/500\n"
     ]
    },
    {
     "name": "stderr",
     "output_type": "stream",
     "text": [
      "2022-06-14 15:59:58.441502: W tensorflow/core/platform/profile_utils/cpu_utils.cc:128] Failed to get CPU frequency: 0 Hz\n",
      "2022-06-14 15:59:58.555653: I tensorflow/core/grappler/optimizers/custom_graph_optimizer_registry.cc:113] Plugin optimizer for device_type GPU is enabled.\n"
     ]
    },
    {
     "name": "stdout",
     "output_type": "stream",
     "text": [
      "2765/2768 [============================>.] - ETA: 0s - loss: 1542343.1250 - MAE: 1183.9768"
     ]
    },
    {
     "name": "stderr",
     "output_type": "stream",
     "text": [
      "2022-06-14 16:00:11.092541: I tensorflow/core/grappler/optimizers/custom_graph_optimizer_registry.cc:113] Plugin optimizer for device_type GPU is enabled.\n"
     ]
    },
    {
     "name": "stdout",
     "output_type": "stream",
     "text": [
      "2768/2768 [==============================] - 14s 5ms/step - loss: 1542310.8750 - MAE: 1183.9454 - val_loss: 1409243.7500 - val_MAE: 1124.0895\n",
      "Epoch 2/500\n",
      "2768/2768 [==============================] - 12s 4ms/step - loss: 1275352.3750 - MAE: 1063.0690 - val_loss: 1159170.6250 - val_MAE: 1004.2647\n",
      "Epoch 3/500\n",
      "2768/2768 [==============================] - 12s 4ms/step - loss: 1041002.6875 - MAE: 943.7623 - val_loss: 940020.9375 - val_MAE: 885.3783\n",
      "Epoch 4/500\n",
      "2768/2768 [==============================] - 14s 5ms/step - loss: 837267.5000 - MAE: 825.2660 - val_loss: 751280.1250 - val_MAE: 767.5500\n",
      "Epoch 5/500\n",
      "2768/2768 [==============================] - 13s 5ms/step - loss: 663448.6875 - MAE: 707.9825 - val_loss: 592136.5625 - val_MAE: 650.7370\n",
      "Epoch 6/500\n",
      "2768/2768 [==============================] - 14s 5ms/step - loss: 519332.5312 - MAE: 592.0187 - val_loss: 462562.5312 - val_MAE: 535.6417\n",
      "Epoch 7/500\n",
      "2768/2768 [==============================] - 13s 5ms/step - loss: 404552.3125 - MAE: 478.3281 - val_loss: 362073.9688 - val_MAE: 424.9459\n",
      "Epoch 8/500\n",
      "2768/2768 [==============================] - 12s 4ms/step - loss: 318267.1250 - MAE: 378.3679 - val_loss: 289474.1250 - val_MAE: 342.7820\n",
      "Epoch 9/500\n",
      "2768/2768 [==============================] - 14s 5ms/step - loss: 259318.8906 - MAE: 320.5562 - val_loss: 243378.4062 - val_MAE: 309.6317\n",
      "Epoch 10/500\n",
      "2768/2768 [==============================] - 15s 6ms/step - loss: 225366.5000 - MAE: 302.6694 - val_loss: 220447.7500 - val_MAE: 303.2260\n",
      "Epoch 11/500\n",
      "2768/2768 [==============================] - 20s 7ms/step - loss: 211288.8594 - MAE: 300.6947 - val_loss: 213095.7344 - val_MAE: 303.4654\n",
      "Epoch 12/500\n",
      "2768/2768 [==============================] - 18s 6ms/step - loss: 207117.0469 - MAE: 300.5511 - val_loss: 210626.3906 - val_MAE: 302.6590\n",
      "Epoch 13/500\n",
      "2768/2768 [==============================] - 13s 5ms/step - loss: 205006.3125 - MAE: 298.9764 - val_loss: 208690.9688 - val_MAE: 300.6451\n",
      "Epoch 14/500\n",
      "2768/2768 [==============================] - 12s 4ms/step - loss: 203108.1719 - MAE: 296.7778 - val_loss: 206869.5781 - val_MAE: 298.3313\n",
      "Epoch 15/500\n",
      "2768/2768 [==============================] - 13s 5ms/step - loss: 201294.9219 - MAE: 294.4034 - val_loss: 205126.2344 - val_MAE: 296.1288\n",
      "Epoch 16/500\n",
      "2768/2768 [==============================] - 11s 4ms/step - loss: 199568.4375 - MAE: 292.2274 - val_loss: 203467.0156 - val_MAE: 293.8158\n",
      "Epoch 17/500\n",
      "2768/2768 [==============================] - 12s 4ms/step - loss: 197907.8125 - MAE: 289.8990 - val_loss: 201861.0312 - val_MAE: 291.7433\n",
      "Epoch 18/500\n",
      "2768/2768 [==============================] - 14s 5ms/step - loss: 196310.1719 - MAE: 287.8585 - val_loss: 200329.4531 - val_MAE: 289.4740\n",
      "Epoch 19/500\n",
      "2768/2768 [==============================] - 11s 4ms/step - loss: 194779.6250 - MAE: 285.5904 - val_loss: 198844.9062 - val_MAE: 287.5607\n",
      "Epoch 20/500\n",
      "2768/2768 [==============================] - 11s 4ms/step - loss: 193301.3438 - MAE: 283.6133 - val_loss: 197415.0469 - val_MAE: 285.5375\n",
      "Epoch 21/500\n",
      "2768/2768 [==============================] - 11s 4ms/step - loss: 191874.7812 - MAE: 281.6086 - val_loss: 196035.6875 - val_MAE: 283.5383\n",
      "Epoch 22/500\n",
      "2768/2768 [==============================] - 11s 4ms/step - loss: 190497.2031 - MAE: 279.6618 - val_loss: 194698.7344 - val_MAE: 281.5344\n",
      "Epoch 23/500\n",
      "2768/2768 [==============================] - 13s 5ms/step - loss: 189160.5781 - MAE: 277.6782 - val_loss: 193403.7500 - val_MAE: 279.7305\n",
      "Epoch 24/500\n",
      "2768/2768 [==============================] - 12s 4ms/step - loss: 187866.5469 - MAE: 275.8916 - val_loss: 192145.4531 - val_MAE: 277.7809\n",
      "Epoch 25/500\n",
      "2768/2768 [==============================] - 12s 4ms/step - loss: 186610.1250 - MAE: 274.0135 - val_loss: 190927.0781 - val_MAE: 275.9075\n",
      "Epoch 26/500\n",
      "2768/2768 [==============================] - 11s 4ms/step - loss: 185384.9219 - MAE: 272.1436 - val_loss: 189732.9531 - val_MAE: 274.1794\n",
      "Epoch 27/500\n",
      "1844/2768 [==================>...........] - ETA: 3s - loss: 187871.6562 - MAE: 272.0595"
     ]
    }
   ],
   "source": [
    "from tensorflow.keras.callbacks import CSVLogger, ModelCheckpoint\n",
    "\n",
    "csv_logger = CSVLogger(f'{work_dir}/training.log', append=True)\n",
    "\n",
    "model_checkpoint_callback = ModelCheckpoint(\n",
    "    filepath=f'{work_dir}/checkpoint/weights',\n",
    "    save_weights_only=True,\n",
    "    monitor='val_MAE',\n",
    "    mode='min',\n",
    "    save_best_only=True\n",
    ")\n",
    "\n",
    "model.fit(\n",
    "    x_train, y_train,\n",
    "    epochs = 500,\n",
    "    validation_split=.2,\n",
    "    callbacks=[csv_logger, model_checkpoint_callback],\n",
    "    verbose=True\n",
    ")\n",
    "\n",
    "model.save(f'{work_dir}/model')"
   ]
  },
  {
   "cell_type": "code",
   "execution_count": null,
   "id": "1b8ee554",
   "metadata": {},
   "outputs": [],
   "source": [
    "model.evaluate(x_valid, y_valid)"
   ]
  },
  {
   "cell_type": "code",
   "execution_count": null,
   "id": "5d02533c",
   "metadata": {},
   "outputs": [],
   "source": []
  }
 ],
 "metadata": {
  "kernelspec": {
   "display_name": "Python 3 (ipykernel)",
   "language": "python",
   "name": "python3"
  },
  "language_info": {
   "codemirror_mode": {
    "name": "ipython",
    "version": 3
   },
   "file_extension": ".py",
   "mimetype": "text/x-python",
   "name": "python",
   "nbconvert_exporter": "python",
   "pygments_lexer": "ipython3",
   "version": "3.9.10"
  }
 },
 "nbformat": 4,
 "nbformat_minor": 5
}
