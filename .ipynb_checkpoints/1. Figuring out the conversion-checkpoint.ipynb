{
 "cells": [
  {
   "cell_type": "code",
   "execution_count": 1,
   "id": "6b7dfa09",
   "metadata": {},
   "outputs": [],
   "source": [
    "%matplotlib inline\n",
    "import matplotlib.pyplot as plt\n",
    "from matplotlib import animation\n",
    "from IPython.display import HTML\n",
    "\n",
    "from ase.db import connect\n",
    "\n",
    "import numpy as np\n",
    "import pandas as pd\n",
    "import tensorflow as tf"
   ]
  },
  {
   "cell_type": "code",
   "execution_count": 2,
   "id": "547023f4",
   "metadata": {},
   "outputs": [],
   "source": [
    "train_db = connect(\"./data/train.db\")"
   ]
  },
  {
   "cell_type": "code",
   "execution_count": 3,
   "id": "33849f46",
   "metadata": {},
   "outputs": [],
   "source": [
    "row = train_db.get(10)"
   ]
  },
  {
   "cell_type": "code",
   "execution_count": 4,
   "id": "aae2b1ba",
   "metadata": {},
   "outputs": [],
   "source": [
    "n = row.natoms\n",
    "p = row.positions\n",
    "s = row.symbols"
   ]
  },
  {
   "cell_type": "code",
   "execution_count": 5,
   "id": "a11c896c",
   "metadata": {},
   "outputs": [],
   "source": [
    "def dist(p1, p2):\n",
    "    return np.sqrt(np.square(p1 - p2).sum())"
   ]
  },
  {
   "cell_type": "code",
   "execution_count": 6,
   "id": "0028ccbc",
   "metadata": {},
   "outputs": [],
   "source": [
    "\n",
    "a = []\n",
    "for i in range(len(p)):\n",
    "    for j in range(i+1, len(p)):\n",
    "        if s[i] == 'H' and s[j] == 'H':\n",
    "            continue\n",
    "        d = dist(p[i], p[j])\n",
    "        if 3.5 < d < 7:  \n",
    "            a.append([\"\".join(sorted(s[i] + s[j])), d])\n",
    "            \n",
    "df = pd.DataFrame(a, columns=['bond', 'dist'])"
   ]
  },
  {
   "cell_type": "code",
   "execution_count": 7,
   "id": "4978bc04",
   "metadata": {},
   "outputs": [],
   "source": [
    "df['converted_dist'] = df['dist'] * 28.9"
   ]
  },
  {
   "cell_type": "code",
   "execution_count": 8,
   "id": "65c8e21c",
   "metadata": {},
   "outputs": [
    {
     "data": {
      "text/html": [
       "<div>\n",
       "<style scoped>\n",
       "    .dataframe tbody tr th:only-of-type {\n",
       "        vertical-align: middle;\n",
       "    }\n",
       "\n",
       "    .dataframe tbody tr th {\n",
       "        vertical-align: top;\n",
       "    }\n",
       "\n",
       "    .dataframe thead th {\n",
       "        text-align: right;\n",
       "    }\n",
       "</style>\n",
       "<table border=\"1\" class=\"dataframe\">\n",
       "  <thead>\n",
       "    <tr style=\"text-align: right;\">\n",
       "      <th></th>\n",
       "      <th>converted_dist</th>\n",
       "      <th>dist</th>\n",
       "    </tr>\n",
       "    <tr>\n",
       "      <th>bond</th>\n",
       "      <th></th>\n",
       "      <th></th>\n",
       "    </tr>\n",
       "  </thead>\n",
       "  <tbody>\n",
       "    <tr>\n",
       "      <th>CC</th>\n",
       "      <td>147.825169</td>\n",
       "      <td>5.115058</td>\n",
       "    </tr>\n",
       "    <tr>\n",
       "      <th>CH</th>\n",
       "      <td>114.093442</td>\n",
       "      <td>3.947870</td>\n",
       "    </tr>\n",
       "    <tr>\n",
       "      <th>CN</th>\n",
       "      <td>140.830598</td>\n",
       "      <td>4.873031</td>\n",
       "    </tr>\n",
       "    <tr>\n",
       "      <th>CO</th>\n",
       "      <td>130.668759</td>\n",
       "      <td>4.521410</td>\n",
       "    </tr>\n",
       "    <tr>\n",
       "      <th>CS</th>\n",
       "      <td>184.576249</td>\n",
       "      <td>6.386721</td>\n",
       "    </tr>\n",
       "    <tr>\n",
       "      <th>HN</th>\n",
       "      <td>107.973773</td>\n",
       "      <td>3.736117</td>\n",
       "    </tr>\n",
       "  </tbody>\n",
       "</table>\n",
       "</div>"
      ],
      "text/plain": [
       "      converted_dist      dist\n",
       "bond                          \n",
       "CC        147.825169  5.115058\n",
       "CH        114.093442  3.947870\n",
       "CN        140.830598  4.873031\n",
       "CO        130.668759  4.521410\n",
       "CS        184.576249  6.386721\n",
       "HN        107.973773  3.736117"
      ]
     },
     "execution_count": 8,
     "metadata": {},
     "output_type": "execute_result"
    }
   ],
   "source": [
    "df.pivot_table(index='bond')"
   ]
  },
  {
   "cell_type": "markdown",
   "id": "f32225e6",
   "metadata": {},
   "source": [
    "<img src='table.png' width=500>"
   ]
  },
  {
   "cell_type": "code",
   "execution_count": 9,
   "id": "12f5ffa8",
   "metadata": {},
   "outputs": [],
   "source": [
    "obj = {\n",
    "    'H':[37],\n",
    "    'C':[77, 67, 60],\n",
    "    'N':[74, 65, 54],\n",
    "    'O':[66, 57],\n",
    "    'S':[104, 95]\n",
    "}"
   ]
  },
  {
   "cell_type": "code",
   "execution_count": 10,
   "id": "75f9fd8e",
   "metadata": {
    "scrolled": true
   },
   "outputs": [
    {
     "data": {
      "text/html": [
       "<div>\n",
       "<style scoped>\n",
       "    .dataframe tbody tr th:only-of-type {\n",
       "        vertical-align: middle;\n",
       "    }\n",
       "\n",
       "    .dataframe tbody tr th {\n",
       "        vertical-align: top;\n",
       "    }\n",
       "\n",
       "    .dataframe thead th {\n",
       "        text-align: right;\n",
       "    }\n",
       "</style>\n",
       "<table border=\"1\" class=\"dataframe\">\n",
       "  <thead>\n",
       "    <tr style=\"text-align: right;\">\n",
       "      <th></th>\n",
       "      <th>bond</th>\n",
       "      <th>dist</th>\n",
       "      <th>converted_dist</th>\n",
       "      <th>bondType</th>\n",
       "      <th>table_bond</th>\n",
       "      <th>diff</th>\n",
       "    </tr>\n",
       "  </thead>\n",
       "  <tbody>\n",
       "    <tr>\n",
       "      <th>0</th>\n",
       "      <td>CC</td>\n",
       "      <td>4.710036</td>\n",
       "      <td>136.120038</td>\n",
       "      <td>2</td>\n",
       "      <td>134</td>\n",
       "      <td>2.120038</td>\n",
       "    </tr>\n",
       "    <tr>\n",
       "      <th>1</th>\n",
       "      <td>CH</td>\n",
       "      <td>3.865956</td>\n",
       "      <td>111.726120</td>\n",
       "      <td>1</td>\n",
       "      <td>114</td>\n",
       "      <td>2.273880</td>\n",
       "    </tr>\n",
       "    <tr>\n",
       "      <th>2</th>\n",
       "      <td>CH</td>\n",
       "      <td>3.862917</td>\n",
       "      <td>111.638310</td>\n",
       "      <td>1</td>\n",
       "      <td>114</td>\n",
       "      <td>2.361690</td>\n",
       "    </tr>\n",
       "    <tr>\n",
       "      <th>3</th>\n",
       "      <td>CC</td>\n",
       "      <td>5.242417</td>\n",
       "      <td>151.505837</td>\n",
       "      <td>1</td>\n",
       "      <td>154</td>\n",
       "      <td>2.494163</td>\n",
       "    </tr>\n",
       "    <tr>\n",
       "      <th>4</th>\n",
       "      <td>CH</td>\n",
       "      <td>3.853440</td>\n",
       "      <td>111.364416</td>\n",
       "      <td>1</td>\n",
       "      <td>114</td>\n",
       "      <td>2.635584</td>\n",
       "    </tr>\n",
       "    <tr>\n",
       "      <th>5</th>\n",
       "      <td>CN</td>\n",
       "      <td>5.156309</td>\n",
       "      <td>149.017326</td>\n",
       "      <td>1</td>\n",
       "      <td>151</td>\n",
       "      <td>1.982674</td>\n",
       "    </tr>\n",
       "    <tr>\n",
       "      <th>6</th>\n",
       "      <td>CH</td>\n",
       "      <td>4.031920</td>\n",
       "      <td>116.522501</td>\n",
       "      <td>1</td>\n",
       "      <td>114</td>\n",
       "      <td>2.522501</td>\n",
       "    </tr>\n",
       "    <tr>\n",
       "      <th>7</th>\n",
       "      <td>CH</td>\n",
       "      <td>4.028488</td>\n",
       "      <td>116.423303</td>\n",
       "      <td>1</td>\n",
       "      <td>114</td>\n",
       "      <td>2.423303</td>\n",
       "    </tr>\n",
       "    <tr>\n",
       "      <th>8</th>\n",
       "      <td>CN</td>\n",
       "      <td>4.792168</td>\n",
       "      <td>138.493647</td>\n",
       "      <td>2</td>\n",
       "      <td>132</td>\n",
       "      <td>6.493647</td>\n",
       "    </tr>\n",
       "    <tr>\n",
       "      <th>9</th>\n",
       "      <td>CN</td>\n",
       "      <td>4.793415</td>\n",
       "      <td>138.529694</td>\n",
       "      <td>2</td>\n",
       "      <td>132</td>\n",
       "      <td>6.529694</td>\n",
       "    </tr>\n",
       "    <tr>\n",
       "      <th>10</th>\n",
       "      <td>CS</td>\n",
       "      <td>6.326823</td>\n",
       "      <td>182.845178</td>\n",
       "      <td>1</td>\n",
       "      <td>181</td>\n",
       "      <td>1.845178</td>\n",
       "    </tr>\n",
       "    <tr>\n",
       "      <th>11</th>\n",
       "      <td>CN</td>\n",
       "      <td>4.807078</td>\n",
       "      <td>138.924557</td>\n",
       "      <td>2</td>\n",
       "      <td>132</td>\n",
       "      <td>6.924557</td>\n",
       "    </tr>\n",
       "    <tr>\n",
       "      <th>12</th>\n",
       "      <td>CS</td>\n",
       "      <td>6.446620</td>\n",
       "      <td>186.307321</td>\n",
       "      <td>1</td>\n",
       "      <td>181</td>\n",
       "      <td>5.307321</td>\n",
       "    </tr>\n",
       "    <tr>\n",
       "      <th>13</th>\n",
       "      <td>CC</td>\n",
       "      <td>5.408497</td>\n",
       "      <td>156.305553</td>\n",
       "      <td>1</td>\n",
       "      <td>154</td>\n",
       "      <td>2.305553</td>\n",
       "    </tr>\n",
       "    <tr>\n",
       "      <th>14</th>\n",
       "      <td>CC</td>\n",
       "      <td>5.434308</td>\n",
       "      <td>157.051509</td>\n",
       "      <td>1</td>\n",
       "      <td>154</td>\n",
       "      <td>3.051509</td>\n",
       "    </tr>\n",
       "    <tr>\n",
       "      <th>15</th>\n",
       "      <td>CH</td>\n",
       "      <td>3.949384</td>\n",
       "      <td>114.137204</td>\n",
       "      <td>1</td>\n",
       "      <td>114</td>\n",
       "      <td>0.137204</td>\n",
       "    </tr>\n",
       "    <tr>\n",
       "      <th>16</th>\n",
       "      <td>CH</td>\n",
       "      <td>3.974852</td>\n",
       "      <td>114.873226</td>\n",
       "      <td>1</td>\n",
       "      <td>114</td>\n",
       "      <td>0.873226</td>\n",
       "    </tr>\n",
       "    <tr>\n",
       "      <th>17</th>\n",
       "      <td>CH</td>\n",
       "      <td>4.030812</td>\n",
       "      <td>116.490457</td>\n",
       "      <td>1</td>\n",
       "      <td>114</td>\n",
       "      <td>2.490457</td>\n",
       "    </tr>\n",
       "    <tr>\n",
       "      <th>18</th>\n",
       "      <td>CH</td>\n",
       "      <td>3.906592</td>\n",
       "      <td>112.900521</td>\n",
       "      <td>1</td>\n",
       "      <td>114</td>\n",
       "      <td>1.099479</td>\n",
       "    </tr>\n",
       "    <tr>\n",
       "      <th>19</th>\n",
       "      <td>CH</td>\n",
       "      <td>3.917254</td>\n",
       "      <td>113.208646</td>\n",
       "      <td>1</td>\n",
       "      <td>114</td>\n",
       "      <td>0.791354</td>\n",
       "    </tr>\n",
       "    <tr>\n",
       "      <th>20</th>\n",
       "      <td>CH</td>\n",
       "      <td>3.929848</td>\n",
       "      <td>113.572603</td>\n",
       "      <td>1</td>\n",
       "      <td>114</td>\n",
       "      <td>0.427397</td>\n",
       "    </tr>\n",
       "    <tr>\n",
       "      <th>21</th>\n",
       "      <td>CH</td>\n",
       "      <td>4.026053</td>\n",
       "      <td>116.352937</td>\n",
       "      <td>1</td>\n",
       "      <td>114</td>\n",
       "      <td>2.352937</td>\n",
       "    </tr>\n",
       "    <tr>\n",
       "      <th>22</th>\n",
       "      <td>CN</td>\n",
       "      <td>4.746416</td>\n",
       "      <td>137.171417</td>\n",
       "      <td>2</td>\n",
       "      <td>132</td>\n",
       "      <td>5.171417</td>\n",
       "    </tr>\n",
       "    <tr>\n",
       "      <th>23</th>\n",
       "      <td>CC</td>\n",
       "      <td>4.963178</td>\n",
       "      <td>143.435835</td>\n",
       "      <td>2</td>\n",
       "      <td>134</td>\n",
       "      <td>9.435835</td>\n",
       "    </tr>\n",
       "    <tr>\n",
       "      <th>24</th>\n",
       "      <td>CN</td>\n",
       "      <td>4.800960</td>\n",
       "      <td>138.747743</td>\n",
       "      <td>2</td>\n",
       "      <td>132</td>\n",
       "      <td>6.747743</td>\n",
       "    </tr>\n",
       "    <tr>\n",
       "      <th>25</th>\n",
       "      <td>CC</td>\n",
       "      <td>4.931911</td>\n",
       "      <td>142.532240</td>\n",
       "      <td>2</td>\n",
       "      <td>134</td>\n",
       "      <td>8.532240</td>\n",
       "    </tr>\n",
       "    <tr>\n",
       "      <th>26</th>\n",
       "      <td>CO</td>\n",
       "      <td>4.499310</td>\n",
       "      <td>130.030072</td>\n",
       "      <td>2</td>\n",
       "      <td>124</td>\n",
       "      <td>6.030072</td>\n",
       "    </tr>\n",
       "    <tr>\n",
       "      <th>27</th>\n",
       "      <td>CN</td>\n",
       "      <td>4.803174</td>\n",
       "      <td>138.811731</td>\n",
       "      <td>2</td>\n",
       "      <td>132</td>\n",
       "      <td>6.811731</td>\n",
       "    </tr>\n",
       "    <tr>\n",
       "      <th>28</th>\n",
       "      <td>CN</td>\n",
       "      <td>4.812759</td>\n",
       "      <td>139.088726</td>\n",
       "      <td>2</td>\n",
       "      <td>132</td>\n",
       "      <td>7.088726</td>\n",
       "    </tr>\n",
       "    <tr>\n",
       "      <th>29</th>\n",
       "      <td>HN</td>\n",
       "      <td>3.736117</td>\n",
       "      <td>107.973773</td>\n",
       "      <td>1</td>\n",
       "      <td>111</td>\n",
       "      <td>3.026227</td>\n",
       "    </tr>\n",
       "    <tr>\n",
       "      <th>30</th>\n",
       "      <td>CO</td>\n",
       "      <td>4.543510</td>\n",
       "      <td>131.307446</td>\n",
       "      <td>2</td>\n",
       "      <td>124</td>\n",
       "      <td>7.307446</td>\n",
       "    </tr>\n",
       "    <tr>\n",
       "      <th>31</th>\n",
       "      <td>CN</td>\n",
       "      <td>4.786681</td>\n",
       "      <td>138.335077</td>\n",
       "      <td>2</td>\n",
       "      <td>132</td>\n",
       "      <td>6.335077</td>\n",
       "    </tr>\n",
       "    <tr>\n",
       "      <th>32</th>\n",
       "      <td>CN</td>\n",
       "      <td>5.231352</td>\n",
       "      <td>151.186061</td>\n",
       "      <td>1</td>\n",
       "      <td>151</td>\n",
       "      <td>0.186061</td>\n",
       "    </tr>\n",
       "    <tr>\n",
       "      <th>33</th>\n",
       "      <td>CH</td>\n",
       "      <td>3.945940</td>\n",
       "      <td>114.037665</td>\n",
       "      <td>1</td>\n",
       "      <td>114</td>\n",
       "      <td>0.037665</td>\n",
       "    </tr>\n",
       "    <tr>\n",
       "      <th>34</th>\n",
       "      <td>CH</td>\n",
       "      <td>3.962088</td>\n",
       "      <td>114.504335</td>\n",
       "      <td>1</td>\n",
       "      <td>114</td>\n",
       "      <td>0.504335</td>\n",
       "    </tr>\n",
       "    <tr>\n",
       "      <th>35</th>\n",
       "      <td>CH</td>\n",
       "      <td>3.932505</td>\n",
       "      <td>113.649384</td>\n",
       "      <td>1</td>\n",
       "      <td>114</td>\n",
       "      <td>0.350616</td>\n",
       "    </tr>\n",
       "  </tbody>\n",
       "</table>\n",
       "</div>"
      ],
      "text/plain": [
       "   bond      dist  converted_dist  bondType  table_bond      diff\n",
       "0    CC  4.710036      136.120038         2         134  2.120038\n",
       "1    CH  3.865956      111.726120         1         114  2.273880\n",
       "2    CH  3.862917      111.638310         1         114  2.361690\n",
       "3    CC  5.242417      151.505837         1         154  2.494163\n",
       "4    CH  3.853440      111.364416         1         114  2.635584\n",
       "5    CN  5.156309      149.017326         1         151  1.982674\n",
       "6    CH  4.031920      116.522501         1         114  2.522501\n",
       "7    CH  4.028488      116.423303         1         114  2.423303\n",
       "8    CN  4.792168      138.493647         2         132  6.493647\n",
       "9    CN  4.793415      138.529694         2         132  6.529694\n",
       "10   CS  6.326823      182.845178         1         181  1.845178\n",
       "11   CN  4.807078      138.924557         2         132  6.924557\n",
       "12   CS  6.446620      186.307321         1         181  5.307321\n",
       "13   CC  5.408497      156.305553         1         154  2.305553\n",
       "14   CC  5.434308      157.051509         1         154  3.051509\n",
       "15   CH  3.949384      114.137204         1         114  0.137204\n",
       "16   CH  3.974852      114.873226         1         114  0.873226\n",
       "17   CH  4.030812      116.490457         1         114  2.490457\n",
       "18   CH  3.906592      112.900521         1         114  1.099479\n",
       "19   CH  3.917254      113.208646         1         114  0.791354\n",
       "20   CH  3.929848      113.572603         1         114  0.427397\n",
       "21   CH  4.026053      116.352937         1         114  2.352937\n",
       "22   CN  4.746416      137.171417         2         132  5.171417\n",
       "23   CC  4.963178      143.435835         2         134  9.435835\n",
       "24   CN  4.800960      138.747743         2         132  6.747743\n",
       "25   CC  4.931911      142.532240         2         134  8.532240\n",
       "26   CO  4.499310      130.030072         2         124  6.030072\n",
       "27   CN  4.803174      138.811731         2         132  6.811731\n",
       "28   CN  4.812759      139.088726         2         132  7.088726\n",
       "29   HN  3.736117      107.973773         1         111  3.026227\n",
       "30   CO  4.543510      131.307446         2         124  7.307446\n",
       "31   CN  4.786681      138.335077         2         132  6.335077\n",
       "32   CN  5.231352      151.186061         1         151  0.186061\n",
       "33   CH  3.945940      114.037665         1         114  0.037665\n",
       "34   CH  3.962088      114.504335         1         114  0.504335\n",
       "35   CH  3.932505      113.649384         1         114  0.350616"
      ]
     },
     "execution_count": 10,
     "metadata": {},
     "output_type": "execute_result"
    }
   ],
   "source": [
    "def whatBond(row):\n",
    "    x = row['bond'][0]\n",
    "    y = row['bond'][1]\n",
    "    \n",
    "    m = min(len(obj[x]), len(obj[y]))\n",
    "    \n",
    "    min_sub = 63 # ???\n",
    "    min_i = -1 \n",
    "    for i in range(m):\n",
    "        sub = abs(row['converted_dist'] - obj[x][i] - obj[y][i])\n",
    "        if sub < min_sub:\n",
    "            min_sub = sub\n",
    "            min_i = i\n",
    "    return min_i+1\n",
    "\n",
    "def tableBond(row):\n",
    "    x = row['bond'][0]\n",
    "    y = row['bond'][1]\n",
    "    i = row['bondType']-1\n",
    "    \n",
    "    return obj[x][i] + obj[y][i]\n",
    "\n",
    "df['bondType'] = df.apply(whatBond, axis=1)\n",
    "df['table_bond'] = df.apply(tableBond, axis=1)\n",
    "df['diff'] = abs(df['table_bond'] - df['converted_dist'])\n",
    "\n",
    "df"
   ]
  },
  {
   "cell_type": "code",
   "execution_count": 11,
   "id": "9a0af967",
   "metadata": {},
   "outputs": [
    {
     "data": {
      "text/plain": [
       "49"
      ]
     },
     "execution_count": 11,
     "metadata": {},
     "output_type": "execute_result"
    }
   ],
   "source": [
    "df['bondType'].sum()"
   ]
  },
  {
   "cell_type": "code",
   "execution_count": 12,
   "id": "f149d335",
   "metadata": {},
   "outputs": [
    {
     "data": {
      "text/plain": [
       "count    36.000000\n",
       "mean      3.528015\n",
       "std       2.726610\n",
       "min       0.037665\n",
       "25%       1.658753\n",
       "50%       2.492310\n",
       "75%       6.374719\n",
       "max       9.435835\n",
       "Name: diff, dtype: float64"
      ]
     },
     "execution_count": 12,
     "metadata": {},
     "output_type": "execute_result"
    }
   ],
   "source": [
    "df['diff'].describe()"
   ]
  },
  {
   "cell_type": "code",
   "execution_count": 13,
   "id": "24b8518f",
   "metadata": {},
   "outputs": [
    {
     "data": {
      "text/plain": [
       "count    36.000000\n",
       "mean     28.382749\n",
       "std       0.785290\n",
       "min      26.998832\n",
       "25%      27.556070\n",
       "50%      28.394181\n",
       "75%      28.994058\n",
       "max      29.709993\n",
       "dtype: float64"
      ]
     },
     "execution_count": 13,
     "metadata": {},
     "output_type": "execute_result"
    }
   ],
   "source": [
    "(df['table_bond'] / df['dist']).describe()"
   ]
  },
  {
   "cell_type": "markdown",
   "id": "c61ed222",
   "metadata": {},
   "source": [
    "Testing the coef\n",
    "---"
   ]
  },
  {
   "cell_type": "code",
   "execution_count": 14,
   "id": "4a02e4be",
   "metadata": {},
   "outputs": [],
   "source": [
    "\n",
    "b = []\n",
    "for i in range(len(p)):\n",
    "    for j in range(i+1, len(p)):\n",
    "        d = dist(p[i], p[j])\n",
    "        b.append([\"\".join(sorted(s[i] + s[j])), d])\n",
    "            \n",
    "bf = pd.DataFrame(b, columns=['bond', 'dist'])"
   ]
  },
  {
   "cell_type": "code",
   "execution_count": 15,
   "id": "45e32310",
   "metadata": {},
   "outputs": [],
   "source": [
    "bf['converted_dist'] = bf['dist'] * 28.4"
   ]
  },
  {
   "cell_type": "code",
   "execution_count": 16,
   "id": "adcd322d",
   "metadata": {},
   "outputs": [
    {
     "data": {
      "text/plain": [
       "<matplotlib.legend.Legend at 0x17ee71790>"
      ]
     },
     "execution_count": 16,
     "metadata": {},
     "output_type": "execute_result"
    },
    {
     "data": {
      "image/png": "[encoded data removed]",
      "text/plain": [
       "<Figure size 432x288 with 1 Axes>"
      ]
     },
     "metadata": {
      "needs_background": "light"
     },
     "output_type": "display_data"
    }
   ],
   "source": [
    "for group, data in bf.groupby('bond'):\n",
    "    if len(data) > 65:\n",
    "        ((data['converted_dist'] - data['converted_dist'].mean())/data['converted_dist'].std()).plot(\n",
    "            kind='hist',\n",
    "            label=group,\n",
    "            alpha=.5\n",
    "        )\n",
    "\n",
    "plt.legend()"
   ]
  },
  {
   "cell_type": "code",
   "execution_count": 17,
   "id": "0ad21e38",
   "metadata": {},
   "outputs": [],
   "source": [
    "bf['bondType'] = bf.apply(whatBond, axis=1)"
   ]
  },
  {
   "cell_type": "code",
   "execution_count": 18,
   "id": "5bbab465",
   "metadata": {},
   "outputs": [
    {
     "data": {
      "text/plain": [
       "49"
      ]
     },
     "execution_count": 18,
     "metadata": {},
     "output_type": "execute_result"
    }
   ],
   "source": [
    "bf['bondType'].sum()"
   ]
  },
  {
   "cell_type": "code",
   "execution_count": 19,
   "id": "21c173c3",
   "metadata": {},
   "outputs": [
    {
     "data": {
      "text/plain": [
       "0     0.0\n",
       "1     0.0\n",
       "2     0.0\n",
       "3     0.0\n",
       "4     0.0\n",
       "5     0.0\n",
       "6     0.0\n",
       "7     0.0\n",
       "8     0.0\n",
       "9     0.0\n",
       "10    0.0\n",
       "11    0.0\n",
       "12    0.0\n",
       "13    0.0\n",
       "14    0.0\n",
       "15    0.0\n",
       "16    0.0\n",
       "17    0.0\n",
       "18    0.0\n",
       "19    0.0\n",
       "20    0.0\n",
       "21    0.0\n",
       "22    0.0\n",
       "23    0.0\n",
       "24    0.0\n",
       "25    0.0\n",
       "26    0.0\n",
       "27    0.0\n",
       "28    0.0\n",
       "29    0.0\n",
       "30    0.0\n",
       "31    0.0\n",
       "32    0.0\n",
       "33    0.0\n",
       "34    0.0\n",
       "35    0.0\n",
       "Name: dist, dtype: float64"
      ]
     },
     "execution_count": 19,
     "metadata": {},
     "output_type": "execute_result"
    }
   ],
   "source": [
    "bf[bf['bondType'] > 0]['dist'].reset_index(drop=True) - df['dist'].reset_index(drop=True)"
   ]
  },
  {
   "cell_type": "code",
   "execution_count": 20,
   "id": "f2fbd4fd",
   "metadata": {},
   "outputs": [],
   "source": [
    "unique_atoms = {'C': 2215956, 'S': 62821, 'N': 397532, 'O': 325109, 'H': 2599014, 'Br': 2290, 'F': 30240, 'Cl': 14028}"
   ]
  },
  {
   "cell_type": "code",
   "execution_count": 21,
   "id": "2b182348",
   "metadata": {},
   "outputs": [
    {
     "data": {
      "text/plain": [
       "dict_keys(['C', 'S', 'N', 'O', 'H', 'Br', 'F', 'Cl'])"
      ]
     },
     "execution_count": 21,
     "metadata": {},
     "output_type": "execute_result"
    }
   ],
   "source": [
    "unique_atoms.keys()"
   ]
  },
  {
   "cell_type": "code",
   "execution_count": 22,
   "id": "cecf710d",
   "metadata": {},
   "outputs": [],
   "source": [
    "obj = {\n",
    "    'Br':[114],\n",
    "    'C': [77, 67, 60],\n",
    "    'Cl':[99],\n",
    "    'F': [64],\n",
    "    'H': [37],\n",
    "    'N': [74, 65, 54],\n",
    "    'O': [66, 57],\n",
    "    'S': [104, 95],\n",
    "}"
   ]
  },
  {
   "cell_type": "code",
   "execution_count": 26,
   "id": "e35f5119",
   "metadata": {},
   "outputs": [],
   "source": [
    "q = {}\n",
    "\n",
    "for i in obj.keys():\n",
    "    for j in obj.keys():\n",
    "        if len(obj[i]) == len(obj[j]) and len(obj[i]) == 1:\n",
    "            continue\n",
    "        m = min(len(obj[i]), len(obj[j]))\n",
    "        bond_name = \"\".join(sorted([i] + [j]))\n",
    "        q[bond_name] = []\n",
    "        for n in reversed(list(range(m))):\n",
    "            if len(obj[i]) != len(obj[j]) or ((len(obj[i]) != n+1) and len(obj[i]) == len(obj[j])):\n",
    "                q[bond_name].append(obj[i][n] + obj[j][n])"
   ]
  },
  {
   "cell_type": "code",
   "execution_count": 27,
   "id": "fa0788c7",
   "metadata": {},
   "outputs": [
    {
     "data": {
      "text/plain": [
       "{'BrC': [191],\n",
       " 'BrN': [188],\n",
       " 'BrO': [180],\n",
       " 'BrS': [218],\n",
       " 'CC': [134, 154],\n",
       " 'CCl': [176],\n",
       " 'CF': [141],\n",
       " 'CH': [114],\n",
       " 'CN': [132, 151],\n",
       " 'CO': [124, 143],\n",
       " 'CS': [162, 181],\n",
       " 'ClN': [173],\n",
       " 'ClO': [165],\n",
       " 'ClS': [203],\n",
       " 'FN': [138],\n",
       " 'FO': [130],\n",
       " 'FS': [168],\n",
       " 'HN': [111],\n",
       " 'HO': [103],\n",
       " 'HS': [141],\n",
       " 'NN': [130, 148],\n",
       " 'NO': [122, 140],\n",
       " 'NS': [160, 178],\n",
       " 'OO': [132],\n",
       " 'OS': [170],\n",
       " 'SS': [208]}"
      ]
     },
     "execution_count": 27,
     "metadata": {},
     "output_type": "execute_result"
    }
   ],
   "source": [
    "q"
   ]
  },
  {
   "cell_type": "code",
   "execution_count": null,
   "id": "1b475fa2",
   "metadata": {},
   "outputs": [],
   "source": []
  }
 ],
 "metadata": {
  "kernelspec": {
   "display_name": "Python 3 (ipykernel)",
   "language": "python",
   "name": "python3"
  },
  "language_info": {
   "codemirror_mode": {
    "name": "ipython",
    "version": 3
   },
   "file_extension": ".py",
   "mimetype": "text/x-python",
   "name": "python",
   "nbconvert_exporter": "python",
   "pygments_lexer": "ipython3",
   "version": "3.9.10"
  }
 },
 "nbformat": 4,
 "nbformat_minor": 5
}
