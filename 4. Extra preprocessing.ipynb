{
 "cells": [
  {
   "cell_type": "code",
   "execution_count": 35,
   "id": "9c203ec5-5bf0-42cf-8b3d-cfa4e442e420",
   "metadata": {},
   "outputs": [],
   "source": [
    "%matplotlib inline\n",
    "import matplotlib.pyplot as plt\n",
    "from matplotlib import animation\n",
    "from IPython.display import HTML\n",
    "from funcs.distance import get_all_distances, get_distance_matrix\n",
    "from funcs.convert import convert_to_picometers, get_bond_type, get_bond_counts\n",
    "\n",
    "from ase.db import connect\n",
    "\n",
    "import numpy as np\n",
    "import pandas as pd"
   ]
  },
  {
   "cell_type": "code",
   "execution_count": 52,
   "id": "fec9fe5e-eb4c-44d0-b48d-4ffda590ea79",
   "metadata": {},
   "outputs": [],
   "source": [
    "train_db = connect(\"./data/train.db\")\n",
    "row = train_db.get(13)\n",
    "n = row.natoms\n",
    "p = row.positions\n",
    "s = row.symbols"
   ]
  },
  {
   "cell_type": "code",
   "execution_count": 53,
   "id": "ba196699-ced9-4608-aaa7-d20387869f36",
   "metadata": {},
   "outputs": [],
   "source": [
    "distance_matrix = get_distance_matrix(row)\n",
    "obj = {\n",
    "    'Br':1, \n",
    "    'C':4, \n",
    "    'Cl':1, \n",
    "    'F':1, \n",
    "    'H':1, \n",
    "    'N':3, \n",
    "    'O':2, \n",
    "    'S':2\n",
    "}\n",
    "shortest_bond_length = 80\n",
    "longest_bond_length = 187\n",
    "type_bond_length =  {'BrC': [191], 'BrN': [188], 'BrO': [180], 'BrS': [218], 'CC': [134, 154, 140], 'CCl': [176], 'CF': [141], 'CH': [114], 'CN': [132, 151], 'CO': [124, 143], 'CS': [162, 181], 'ClN': [173], 'ClO': [165], 'ClS': [203], 'FN': [138], 'FO': [130], 'FS': [168], 'HN': [111], 'HO': [103], 'HS': [141], 'NN': [130, 148], 'NO': [122, 140], 'NS': [160, 178], 'OO': [132], 'OS': [170], 'SS': [208]}"
   ]
  },
  {
   "cell_type": "code",
   "execution_count": 54,
   "id": "349cabeb-e926-43f4-ae78-c0fd7f98c2d9",
   "metadata": {},
   "outputs": [
    {
     "name": "stdout",
     "output_type": "stream",
     "text": [
      "{'CC1': 1, 'CH1': 17, 'CC2': 4, 'CN2': 2, 'CN1': 8, 'CS2': 2, 'CC1.5': 2, 'CO1': 2, 'HN1': 1}\n",
      "{'CC1': 1, 'CH1': 17, 'CC2': 4, 'CN2': 2, 'CN1': 8, 'CS2': 2, 'CC1.5': 2, 'CO1': 2, 'HN1': 1}\n"
     ]
    }
   ],
   "source": [
    "def get_bond_counts_limiter(distance_matrix, symbols):\n",
    "    n_atoms = len(symbols)\n",
    "    \n",
    "    distance_matrix = convert_to_picometers(distance_matrix)\n",
    "    bond_counter = {}\n",
    "    available_bonds = [obj[atom] for atom in s]\n",
    "    for i in range(n_atoms - 1):\n",
    "        for j in range(i, n_atoms):\n",
    "            bond_name = \"\".join(sorted(symbols[i] + symbols[j]))\n",
    "            bond_length = distance_matrix[i][j]\n",
    "            \n",
    "            if(bond_length < shortest_bond_length or \n",
    "                bond_length > longest_bond_length or\n",
    "                bond_name not in type_bond_length or \n",
    "                available_bonds[i] <= 0 or available_bonds[j] <= 0):\n",
    "                continue\n",
    "            else:\n",
    "                available_bonds[i] -= 1\n",
    "                available_bonds[j] -= 1\n",
    "                bond_type = get_bond_type(bond_name, bond_length)\n",
    "                bond_name += str(bond_type)\n",
    "                \n",
    "                if bond_name in bond_counter:\n",
    "                    bond_counter[bond_name] += 1\n",
    "                else:\n",
    "                    bond_counter[bond_name] = 1\n",
    "\n",
    "    return bond_counter\n",
    "counter = get_bond_counts_limiter(distance_matrix, s)\n",
    "print(counter)\n",
    "counter1 = get_bond_counts(distance_matrix, s)\n",
    "print(counter1)"
   ]
  }
 ],
 "metadata": {
  "kernelspec": {
   "display_name": "Python 3 (ipykernel)",
   "language": "python",
   "name": "python3"
  },
  "language_info": {
   "codemirror_mode": {
    "name": "ipython",
    "version": 3
   },
   "file_extension": ".py",
   "mimetype": "text/x-python",
   "name": "python",
   "nbconvert_exporter": "python",
   "pygments_lexer": "ipython3",
   "version": "3.9.7"
  }
 },
 "nbformat": 4,
 "nbformat_minor": 5
}
