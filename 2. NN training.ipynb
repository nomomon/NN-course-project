{
 "cells": [
  {
   "cell_type": "code",
   "execution_count": null,
   "id": "8061506a",
   "metadata": {},
   "outputs": [],
   "source": [
    "import tensorflow as tf\n",
    "import numpy as np\n",
    "import pandas as pd\n",
    "\n",
    "import matplotlib.pyplot as plt\n",
    "from tqdm import tqdm "
   ]
  },
  {
   "cell_type": "code",
   "execution_count": null,
   "id": "c0fc136b",
   "metadata": {},
   "outputs": [],
   "source": [
    "x = pd.read_csv(\"./data/processed/csp_bond_types.csv\", index_col=0)\n",
    "y = pd.read_csv(\"./data/processed/energy.csv\")\n",
    "\n",
    "x = x.to_numpy()\n",
    "y = y.to_numpy()\n",
    "\n",
    "x.shape, y.shape"
   ]
  },
  {
   "cell_type": "code",
   "execution_count": null,
   "id": "cb478f7d",
   "metadata": {},
   "outputs": [],
   "source": [
    "from sklearn.model_selection import train_test_split\n",
    "\n",
    "# Split the data\n",
    "x_, x_test, y_, y_test = train_test_split(x, y, test_size=.2, shuffle=True, random_state=42)\n",
    "x_train, x_val, y_train, y_val = train_test_split(x_, y_, test_size=.2, shuffle=True, random_state=42)"
   ]
  },
  {
   "cell_type": "code",
   "execution_count": null,
   "id": "52c09d66",
   "metadata": {},
   "outputs": [],
   "source": [
    "print(x_train.shape, y_train.shape)\n",
    "print(x_val.shape, y_val.shape)\n",
    "print(x_test.shape, y_test.shape)"
   ]
  },
  {
   "cell_type": "markdown",
   "id": "3a10c228",
   "metadata": {},
   "source": [
    "## Hyperparameter tuning"
   ]
  },
  {
   "cell_type": "code",
   "execution_count": null,
   "id": "d55c30b7",
   "metadata": {},
   "outputs": [],
   "source": [
    "def loguniform(low=.001, high=.3, size=None):\n",
    "    return np.exp(np.random.uniform(np.log(low), np.log(high), size))\n",
    "\n",
    "n = 32\n",
    "e = 10\n",
    "\n",
    "lr = loguniform(size=n)\n",
    "ls = np.random.randint(1, 50, size=n) * 20\n",
    "\n",
    "results = []"
   ]
  },
  {
   "cell_type": "code",
   "execution_count": null,
   "id": "430d13d1",
   "metadata": {},
   "outputs": [],
   "source": [
    "%matplotlib inline\n",
    "\n",
    "plt.scatter(lr, ls)\n",
    "plt.xscale('log')"
   ]
  },
  {
   "cell_type": "code",
   "execution_count": null,
   "id": "00abd9f9",
   "metadata": {
    "scrolled": true
   },
   "outputs": [],
   "source": [
    "from tensorflow.keras.layers import Dense as den\n",
    "from tensorflow.keras.layers import InputLayer as inp\n",
    "from sklearn.model_selection import KFold, cross_val_score\n",
    "\n",
    "for i in tqdm(range(n)):\n",
    "    tf.keras.backend.clear_session()\n",
    "    \n",
    "    model = tf.keras.Sequential([\n",
    "        inp(x.shape[1]),\n",
    "        den(ls[i], activation='relu'),\n",
    "        den(1)\n",
    "    ])\n",
    "\n",
    "    model.compile(\n",
    "        optimizer=tf.keras.optimizers.Adam(learning_rate=lr[i]),\n",
    "        loss=\"mse\",\n",
    "        metrics=\"mae\"\n",
    "    )\n",
    "    \n",
    "    k_fold = KFold(n_splits=e)\n",
    "    \n",
    "    performance = []\n",
    "    for train_indices, test_indices in k_fold.split(x_val):\n",
    "        h = model.fit(\n",
    "            x_val[train_indices], y_val[train_indices],\n",
    "            validation_data = (x_val[test_indices], y_val[test_indices]),\n",
    "            epochs = 1,\n",
    "            verbose=0\n",
    "        )\n",
    "        performance.append(h.history['val_mae'][0])\n",
    "\n",
    "    results.append(sum(performance) / e)"
   ]
  },
  {
   "cell_type": "code",
   "execution_count": null,
   "id": "3cc9d464",
   "metadata": {},
   "outputs": [],
   "source": [
    "results = np.array(results)\n",
    "\n",
    "results"
   ]
  },
  {
   "cell_type": "code",
   "execution_count": null,
   "id": "1cf7ffb9",
   "metadata": {},
   "outputs": [],
   "source": [
    "np.savetxt(\"lr.csv\", lr, delimiter=\",\")\n",
    "np.savetxt(\"ls.csv\", ls, delimiter=\",\")\n",
    "np.savetxt(\"r.csv\", results, delimiter=\",\")"
   ]
  },
  {
   "cell_type": "code",
   "execution_count": null,
   "id": "b5392eb9",
   "metadata": {},
   "outputs": [],
   "source": [
    "%matplotlib inline\n",
    "\n",
    "fig, ax = plt.subplots()\n",
    "\n",
    "scat_plot = ax.scatter(lr, ls, c=results)\n",
    "plt.colorbar(scat_plot, pad=0.1, label='MAE')\n",
    "\n",
    "ax.set_xscale('log')\n",
    "\n",
    "i_min = results.argmin()\n",
    "ax.scatter(lr[i_min], ls[i_min], marker=\"o\", c='w', s=76)\n",
    "ax.scatter(lr[i_min], ls[i_min], marker=\"*\", c='#440256', s=70)\n",
    "\n",
    "xlim = ax.get_xlim()\n",
    "ylim = ax.get_ylim()\n",
    "\n",
    "ax.plot([0, lr[i_min]], [ls[i_min], ls[i_min]], c='#696969', linestyle='dashed', linewidth=1, zorder=-10)\n",
    "ax.plot([lr[i_min], lr[i_min]], [0, ls[i_min]], c='#696969', linestyle='dashed', linewidth=1, zorder=-10)\n",
    "\n",
    "ax.text(lr[i_min]+.005, 10, '0.035')\n",
    "ax.text(0.001, ls[i_min]+10, '560')\n",
    "\n",
    "ax.set_xlim(xlim)\n",
    "ax.set_ylim(ylim)\n",
    "\n",
    "ax.set_xlabel('Learning rate')\n",
    "ax.set_ylabel('Neurons in the\\nhidden layer')\n",
    "\n",
    "fig.savefig('hyperparameter-tuning.svg', bbox_inches='tight')"
   ]
  },
  {
   "cell_type": "markdown",
   "id": "c2db53fd",
   "metadata": {},
   "source": [
    "## Trianing the model"
   ]
  },
  {
   "cell_type": "code",
   "execution_count": null,
   "id": "d261f406",
   "metadata": {},
   "outputs": [],
   "source": [
    "import os\n",
    "\n",
    "work_dir = 'trained/'\n",
    "\n",
    "os.mkdir(f'{work_dir}')\n",
    "os.mkdir(f'{work_dir}/checkpoint')\n",
    "os.mkdir(f'{work_dir}/model')"
   ]
  },
  {
   "cell_type": "code",
   "execution_count": null,
   "id": "4f6fb831",
   "metadata": {},
   "outputs": [],
   "source": [
    "from tensorflow.keras.layers import Dense as d\n",
    "from tensorflow.keras.layers import InputLayer as i\n",
    "\n",
    "tf.keras.backend.clear_session()\n",
    "\n",
    "model = tf.keras.Sequential([\n",
    "    inp(x.shape[1]),\n",
    "    den(ls[i_min],\n",
    "        activation='relu'\n",
    "    ),\n",
    "    den(1)\n",
    "])\n",
    "\n",
    "\n",
    "model.compile(\n",
    "    optimizer=tf.keras.optimizers.Adam(learning_rate=lr[i_min]),\n",
    "    loss=\"MSE\",\n",
    "    metrics=\"MAE\"\n",
    ")"
   ]
  },
  {
   "cell_type": "code",
   "execution_count": null,
   "id": "d8334bf1",
   "metadata": {},
   "outputs": [],
   "source": [
    "model.build()\n",
    "model.summary()"
   ]
  },
  {
   "cell_type": "code",
   "execution_count": null,
   "id": "514116e8",
   "metadata": {},
   "outputs": [],
   "source": [
    "from tensorflow.keras.callbacks import CSVLogger\n",
    "\n",
    "csv_logger = CSVLogger(f'{work_dir}/training.log', append=True)\n",
    "\n",
    "model.fit(\n",
    "    x_train, y_train,\n",
    "    epochs = 200,\n",
    "    callbacks=[csv_logger],\n",
    "    verbose=True\n",
    ")\n",
    "\n",
    "model.save(f'{work_dir}/model')"
   ]
  },
  {
   "cell_type": "markdown",
   "id": "d22c5304",
   "metadata": {},
   "source": [
    "## Results"
   ]
  },
  {
   "cell_type": "code",
   "execution_count": null,
   "id": "1f8e47c0",
   "metadata": {},
   "outputs": [],
   "source": [
    "model = tf.keras.models.load_model(f'{work_dir}/model')"
   ]
  },
  {
   "cell_type": "code",
   "execution_count": null,
   "id": "482b3c2f",
   "metadata": {},
   "outputs": [],
   "source": [
    "model.evaluate(x_test, y_test)"
   ]
  },
  {
   "cell_type": "code",
   "execution_count": null,
   "id": "b1665a30",
   "metadata": {},
   "outputs": [],
   "source": [
    "mae = abs(model.predict(x_test) - y_test)"
   ]
  },
  {
   "cell_type": "code",
   "execution_count": null,
   "id": "f6f2dc24",
   "metadata": {},
   "outputs": [],
   "source": [
    "atom_counts = pd.read_csv('data/processed/atom_counts.csv')"
   ]
  },
  {
   "cell_type": "code",
   "execution_count": null,
   "id": "816beeaa",
   "metadata": {},
   "outputs": [],
   "source": [
    "total_atoms = atom_counts.sum(axis=1)\n",
    "\n",
    "total_atoms.shape"
   ]
  },
  {
   "cell_type": "code",
   "execution_count": null,
   "id": "884eba9e",
   "metadata": {
    "collapsed": true
   },
   "outputs": [],
   "source": [
    "%matplotlib inline\n",
    "\n",
    "_, total_atoms_test, _, _ = train_test_split(total_atoms, total_atoms, test_size=.2, shuffle=True, random_state=42)\n",
    "\n",
    "mae = mae.reshape(-1)\n",
    "\n",
    "print(total_atoms_test.shape)\n",
    "print(mae.shape)\n",
    "\n",
    "plt.scatter(\n",
    "    total_atoms_test[mae < 5], mae[mae < 5], alpha=0.1\n",
    ")"
   ]
  },
  {
   "cell_type": "code",
   "execution_count": null,
   "id": "21a5f7ec",
   "metadata": {},
   "outputs": [],
   "source": [
    "d = pd.DataFrame({\"MAE\":mae, \"Total Atoms\":total_atoms_test})"
   ]
  },
  {
   "cell_type": "code",
   "execution_count": null,
   "id": "64bada6a",
   "metadata": {},
   "outputs": [],
   "source": [
    "d['Total Atoms'] = round(d['Total Atoms']/5)*5"
   ]
  },
  {
   "cell_type": "code",
   "execution_count": null,
   "id": "e9e7555a",
   "metadata": {},
   "outputs": [],
   "source": [
    "b = d[d['MAE']<5].groupby(\"Total Atoms\").mean()\n",
    "\n",
    "b.columns = ['mean MAE']\n",
    "\n",
    "\n",
    "d = d.join(b, \"Total Atoms\")"
   ]
  },
  {
   "cell_type": "code",
   "execution_count": null,
   "id": "175dd458",
   "metadata": {},
   "outputs": [],
   "source": [
    "d['diff'] = d['MAE'] - d['mean MAE']\n",
    "\n",
    "d.groupby(\"Total Atoms\").mean()"
   ]
  },
  {
   "cell_type": "code",
   "execution_count": null,
   "id": "67fddbf8",
   "metadata": {},
   "outputs": [],
   "source": [
    "fig = plt.figure()\n",
    "ax = plt.axes()\n",
    "\n",
    "se = d[d['MAE']<5].groupby(\"Total Atoms\")['diff'].std()/2\n",
    "\n",
    "\n",
    "d['Total Atoms'] = d['Total Atoms'].astype('int')\n",
    "\n",
    "d[d['MAE']<5].groupby(\"Total Atoms\").mean().reset_index().plot(\n",
    "    kind='bar',\n",
    "    x=\"Total Atoms\",\n",
    "    y=\"MAE\",\n",
    "    ax=ax,\n",
    "    legend=False,\n",
    "    yerr=se\n",
    ")\n",
    "\n",
    "\n",
    "ax.set_ylabel(\"MAE\")\n",
    "\n",
    "fig.savefig('MAE-vs-Total-Atoms.svg', bbox_inches='tight')"
   ]
  },
  {
   "cell_type": "code",
   "execution_count": null,
   "id": "2e90f24e",
   "metadata": {},
   "outputs": [],
   "source": [
    "import matplotlib.pyplot as plt\n",
    "\n",
    "fig = plt.figure()\n",
    "ax = plt.axes()\n",
    "plt.hist(mae[mae < 5], bins=80)\n",
    "\n",
    "\n",
    "ax.set_ylabel('Frequency')\n",
    "ax.set_xlabel('Absolute Error');\n",
    "\n",
    "fig.savefig('AE-distribution.svg', bbox_inches='tight')"
   ]
  },
  {
   "cell_type": "code",
   "execution_count": null,
   "id": "d8d6bf59",
   "metadata": {},
   "outputs": [],
   "source": [
    "ax = plt.axes()\n",
    "\n",
    "total_atoms.hist(bins=49, ax=ax)\n",
    "\n",
    "\n",
    "ax.set_ylabel('Frequency')\n",
    "ax.set_xlabel('Atoms in a molecule');\n",
    "\n",
    "plt.savefig('distribution-of-data.svg', bbox_inches='tight')"
   ]
  }
 ],
 "metadata": {
  "kernelspec": {
   "display_name": "Python 3 (ipykernel)",
   "language": "python",
   "name": "python3"
  },
  "language_info": {
   "codemirror_mode": {
    "name": "ipython",
    "version": 3
   },
   "file_extension": ".py",
   "mimetype": "text/x-python",
   "name": "python",
   "nbconvert_exporter": "python",
   "pygments_lexer": "ipython3",
   "version": "3.9.10"
  }
 },
 "nbformat": 4,
 "nbformat_minor": 5
}
